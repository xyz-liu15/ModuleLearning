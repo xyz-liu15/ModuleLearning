{
 "cells": [
  {
   "cell_type": "markdown",
   "id": "87a0fdc8",
   "metadata": {},
   "source": [
    "学会基础的聊天模型和提示词"
   ]
  },
  {
   "cell_type": "code",
   "execution_count": null,
   "id": "61bd966e",
   "metadata": {},
   "outputs": [],
   "source": [
    "from langchain_openai import ChatOpenAI\n",
    "from langchain_core.prompts import ChatPromptTemplate\n",
    "from langchain_core.messages import HumanMessage,AIMessage,SystemMessage\n",
    "from langchain_core.output_parsers import StrOutputParser"
   ]
  },
  {
   "cell_type": "code",
   "execution_count": 2,
   "id": "99ca115b",
   "metadata": {},
   "outputs": [],
   "source": [
    "import os\n",
    "glm_api_key = os.getenv(\"OPENAI_API_KEY\")\n",
    "glm_base_url = os.getenv(\"BASE_URL\")"
   ]
  },
  {
   "cell_type": "code",
   "execution_count": 3,
   "id": "8105bebe",
   "metadata": {},
   "outputs": [],
   "source": [
    "model = ChatOpenAI(\n",
    "    model = \"glm-4.5\",\n",
    "    api_key = glm_api_key,\n",
    "    base_url = glm_base_url\n",
    ")"
   ]
  },
  {
   "cell_type": "code",
   "execution_count": 4,
   "id": "5a513670",
   "metadata": {},
   "outputs": [
    {
     "data": {
      "text/plain": [
       "AIMessage(content='LangChain 的生态系统是一个围绕其核心框架构建的、庞大且快速发展的工具、库、服务和社区集合。它旨在简化基于大型语言模型（LLM）的应用程序开发，提供从原型设计到生产部署的全流程支持。以下是 LangChain 生态系统的核心组成部分及其功能介绍：\\n\\n---\\n\\n### **一、核心框架：LangChain Libraries**\\n这是生态系统的基石，提供核心功能和抽象层，主要分为几个 Python/JS 包：\\n\\n1.  **`langchain-core`：**\\n    *   **核心抽象与基础接口：** 定义了 LLM 应用最基础的构建块，如 `LLM`, `ChatModel`, `Embeddings`, `PromptTemplate`, `Document`, `Retriever`, `Tool`, `Agent` 等。\\n    *   **标准化：** 确保不同组件（如不同模型提供商、向量数据库）可以无缝协作。\\n    *   **轻量级：** 不依赖具体实现，只定义接口和基础工具。\\n\\n2.  **`langchain`：**\\n    *   **核心应用逻辑与编排：** 包含将核心抽象组合成复杂应用逻辑的组件。\\n    *   **关键模块：**\\n        *   **Chains：** 将 LLM 调用与其他组件（提示、其他 LLM、工具、内存）链接起来形成工作流（如 `LLMChain`, `RetrievalQAChain`, `SequentialChain`）。\\n        *   **Agents：** 动态决定使用哪些工具（如搜索、计算、API 调用）来回答用户查询或完成任务的核心组件（如 `AgentExecutor`, `ReActDocstore`）。\\n        *   **Memory：** 在对话或任务执行过程中维护和访问状态（如 `ConversationBufferMemory`, `ConversationSummaryMemory`）。\\n        *   **Prompts：** 管理和优化提示词（如 `PromptTemplate`, `ChatPromptTemplate`, `FewShotPromptTemplate`）。\\n        *   **Document Loaders：** 从各种来源（PDF, TXT, HTML, 数据库, API 等）加载数据并转换为 `Document` 对象。\\n        *   **Text Splitters：** 将长文档分割成适合嵌入或处理的块。\\n        *   **Output Parsers：** 将 LLM 的原始输出（通常是字符串）解析为结构化数据（如 JSON, Pydantic 对象）。\\n\\n3.  **`langchain-community`：**\\n    *   **第三方集成库：** 包含与大量第三方服务和工具的集成代码。\\n    *   **覆盖范围：**\\n        *   **模型提供商：** OpenAI, Anthropic, Hugging Face, Cohere, Google Gemini, Ollama, 本地模型等。\\n        *   **向量数据库：** Chroma, Pinecone, FAISS, Weaviate, Milvus, Qdrant, Redis 等。\\n        *   **文档存储/检索：** Elasticsearch, MongoDB Atlas Search, Apache Cassandra 等。\\n        *   **工具/API：** Google Search, Wikipedia, ArXiv, SerpApi, Wolfram Alpha, SQL 数据库, Shell 命令等。\\n        *   **其他：** 各种文档加载器、文本分割器、内存实现等。\\n    *   **作用：** 让开发者可以轻松地将 LangChain 与现有技术栈结合。\\n\\n4.  **`langchain-experimental`：**\\n    *   **前沿与实验性功能：** 包含正在积极开发、尚未稳定或属于探索性研究的组件。\\n    *   **示例：** 新的 Agent 策略、高级推理技术、多模态处理实验等。\\n    *   **注意：** API 可能不稳定，适合尝鲜和反馈。\\n\\n---\\n\\n### **二、关键工具与服务：LangSmith & LangServe**\\n这些是 LangChain 官方提供的、用于提升开发体验和部署能力的核心服务。\\n\\n1.  **LangSmith：**\\n    *   **LLM 应用开发与监控平台：** 专为构建、测试、调试和监控基于 LLM 的复杂应用而设计。\\n    *   **核心功能：**\\n        *   **调试与追踪：** 可视化 Chains/Agents 的执行步骤（提示、LLM 调用、工具使用、中间结果），快速定位问题。\\n        *   **数据集管理：** 创建和管理用于评估和测试的输入-输出对数据集。\\n        *   **评估：** 运行自动化评估（如基于参考答案、模型评判、自定义指标）来量化应用性能。\\n        *   **提示工程与优化：** 比较不同提示模板的效果，进行 A/B 测试。\\n        *   **监控与分析：** 在生产环境中跟踪应用性能、成本、延迟、错误率等关键指标。\\n    *   **价值：** 解决 LLM 应用“黑盒”问题，是构建可靠、可维护应用的必备工具。\\n\\n2.  **LangServe：**\\n    *   **将 LangChain 应用部署为生产就绪的 API：** 基于 FastAPI 构建。\\n    *   **核心功能：**\\n        *   **API 自动生成：** 将 Chain 或 Agent 包装成 REST API 端点，自动生成 OpenAPI/Swagger 文档。\\n        *   **输入/输出模式化：** 强类型定义（使用 Pydantic），确保 API 调用的结构化和类型安全。\\n        *   **客户端 SDK：** 自动生成 Python/JS 客户端 SDK，简化前端或其他服务调用。\\n        *   **部署友好：** 易于容器化（Docker）并与云平台（AWS, GCP, Azure）或 Kubernetes 集成。\\n        *   **监控集成：** 可与 LangSmith 无缝集成，实现端到端监控。\\n    *   **价值：** 极大简化了从开发原型到生产服务的部署流程。\\n\\n---\\n\\n### **三、社区生态与资源**\\n1.  **LangChain Templates (`langchain-templates`):**\\n    *   **预构建的应用模板：** 提供一系列开箱即用的、针对特定场景的完整应用代码库。\\n    *   **示例：** 聊天机器人、文档问答、代码分析、SQL 查询助手、多模态应用等。\\n    *   **价值：** 快速启动项目，学习最佳实践，避免重复造轮子。\\n\\n2.  **第三方工具与集成：**\\n    *   **广泛的合作伙伴生态：** 大量云服务商（AWS Bedrock, Google Vertex AI, Azure OpenAI）、向量数据库提供商、监控工具（Datadog, New Relic）、开发框架（Streamlit, Gradio, Dash）等都提供了与 LangChain 的官方或社区集成。\\n    *   **价值：** 开发者可以轻松将 LangChain 应用集成到现有基础设施和工作流中。\\n\\n3.  **文档与教程：**\\n    *   **官方文档 (`langchain.com`):** 极其详尽，包含概念解释、使用指南、API 参考、集成文档、教程、操作指南。\\n    *   **社区教程与博客：** 大量开发者分享实践经验和解决方案。\\n\\n4.  **社区论坛与支持：**\\n    *   **Discord 社区：** 非常活跃，是提问、交流、分享进展的主要场所。\\n    *   **GitHub Discussions：** 用于更技术性的讨论和问题跟踪。\\n    *   **Stack Overflow：** 使用 `langchain` 标签提问。\\n\\n5.  **企业支持：**\\n    *   **LangChain Inc.** 提供企业级支持、咨询和培训服务，满足企业对安全、合规、可扩展性和专业支持的需求。\\n\\n---\\n\\n### **生态系统协同效应**\\nLangChain 生态系统的真正威力在于各组件之间的**无缝协作**：\\n1.  **开发流程：** 使用 `langchain` + `langchain-community` 快速构建原型 -> 用 `LangSmith` 调试、测试、评估和优化 -> 通过 `LangServe` 部署为生产 API -> 用 `LangSmith` 监控生产表现。\\n2.  **模块化与可组合性：** 核心抽象 (`langchain-core`) 确保不同来源的组件（模型、向量库、工具）可以像乐高积木一样自由组合。\\n3.  **社区驱动：** 大量第三方集成和模板由社区贡献，不断扩展生态系统的边界和适用场景。\\n4.  **全生命周期覆盖：** 从想法构思、原型开发、测试优化到部署监控，提供端到端支持。\\n\\n---\\n\\n### **总结**\\nLangChain 的生态系统是一个围绕其核心框架构建的、功能强大且不断演进的**LLM 应用开发平台**。它通过：\\n*   **核心库 (`langchain-*`)** 提供构建模块和编排能力。\\n*   **关键工具 (`LangSmith`, `LangServe`)** 解决调试、评估、部署和监控痛点。\\n*   **丰富集成 (`langchain-community`)** 连接海量第三方服务。\\n*   **活跃社区与资源 (`Templates`, 文档, 论坛)** 提供支持、模板和知识共享。\\n\\n这个生态系统极大地降低了开发复杂 LLM 应用的门槛，加速了从研究到生产的进程，是当前构建基于 LLM 应用的事实标准之一。开发者可以根据需求灵活选用生态中的组件，构建从简单聊天机器人到复杂多模态代理的各种应用。', additional_kwargs={'refusal': None}, response_metadata={'token_usage': {'completion_tokens': 2460, 'prompt_tokens': 11, 'total_tokens': 2471, 'completion_tokens_details': None, 'prompt_tokens_details': {'audio_tokens': None, 'cached_tokens': 0}}, 'model_name': 'glm-4.5', 'system_fingerprint': None, 'id': '202507302142247cee9d2f32364d14', 'service_tier': None, 'finish_reason': 'stop', 'logprobs': None}, id='run--5775f4a0-ade4-4a75-91f2-ebefe86ddb2f-0', usage_metadata={'input_tokens': 11, 'output_tokens': 2460, 'total_tokens': 2471, 'input_token_details': {'cache_read': 0}, 'output_token_details': {}})"
      ]
     },
     "execution_count": 4,
     "metadata": {},
     "output_type": "execute_result"
    }
   ],
   "source": [
    "model.invoke(\"介绍一下LangChain的生态系统。\")"
   ]
  },
  {
   "cell_type": "code",
   "execution_count": 28,
   "id": "cefa26d7",
   "metadata": {},
   "outputs": [],
   "source": [
    "prompt = ChatPromptTemplate.from_template(\"你是一个顶级Python教师，可以是使用中文对学生进行教学。{query}\")"
   ]
  },
  {
   "cell_type": "code",
   "execution_count": 8,
   "id": "bb53bc36",
   "metadata": {},
   "outputs": [],
   "source": [
    "parser = StrOutputParser()"
   ]
  },
  {
   "cell_type": "code",
   "execution_count": 29,
   "id": "d6626ce3",
   "metadata": {},
   "outputs": [],
   "source": [
    "chain = prompt | model | parser"
   ]
  },
  {
   "cell_type": "code",
   "execution_count": 30,
   "id": "cbf07b9e",
   "metadata": {},
   "outputs": [
    {
     "name": "stdout",
     "output_type": "stream",
     "text": [
      "<class 'langchain_core.runnables.base.RunnableSequence'>\n"
     ]
    }
   ],
   "source": [
    "print(type(chain))"
   ]
  },
  {
   "cell_type": "code",
   "execution_count": 32,
   "id": "94d11d10",
   "metadata": {},
   "outputs": [
    {
     "name": "stdout",
     "output_type": "stream",
     "text": [
      "你好！很高兴见到你 😊  \n",
      "我是你的专属Python教师，无论你是刚入门的小白，还是想进阶的程序员，我都会用最清晰、最易懂的方式带你掌握Python。  \n",
      "\n",
      "---\n",
      "\n",
      "## 🎯 我们可以从这些开始：\n",
      "\n",
      "### 1️⃣ **Python基础入门**\n",
      "- 变量、数据类型（数字、字符串、列表、字典等）\n",
      "- 条件语句（if-else）\n",
      "- 循环（for、while）\n",
      "- 函数定义与调用\n",
      "\n",
      "### 2️⃣ **Python进阶**\n",
      "- 面向对象编程（类与对象）\n",
      "- 模块与包\n",
      "- 文件操作\n",
      "- 异常处理\n",
      "\n",
      "### 3️⃣ **实战项目**\n",
      "- 爬虫（抓取网页数据）\n",
      "- 数据分析（Pandas、Matplotlib）\n",
      "- 自动化脚本（Excel、邮件处理）\n",
      "- Web开发（Flask、Django）\n",
      "\n",
      "---\n",
      "\n",
      "## 💡 学习建议\n",
      "- 每天写一点代码，哪怕只有几行。\n",
      "- 多动手做项目，比单纯看教程效果好得多。\n",
      "- 遇到问题随时问我，我会给你详细解答。\n",
      "\n",
      "---\n",
      "\n",
      "现在告诉我：\n",
      "✅ 你目前的编程水平是什么？（零基础 / 学过一些 / 有其他语言经验）  \n",
      "✅ 你最想学Python用来做什么？（比如：数据分析、网站开发、自动化办公、游戏开发等）\n",
      "\n",
      "等你回复后，我会为你量身定制学习路线！🌟"
     ]
    }
   ],
   "source": [
    "async for chunk in chain.astream({\"query\" : \"你好\"}):\n",
    "    print(chunk,end = \"\",flush = True)"
   ]
  },
  {
   "cell_type": "code",
   "execution_count": null,
   "id": "7e008f28",
   "metadata": {},
   "outputs": [],
   "source": []
  }
 ],
 "metadata": {
  "kernelspec": {
   "display_name": ".venv",
   "language": "python",
   "name": "python3"
  },
  "language_info": {
   "codemirror_mode": {
    "name": "ipython",
    "version": 3
   },
   "file_extension": ".py",
   "mimetype": "text/x-python",
   "name": "python",
   "nbconvert_exporter": "python",
   "pygments_lexer": "ipython3",
   "version": "3.12.7"
  }
 },
 "nbformat": 4,
 "nbformat_minor": 5
}
