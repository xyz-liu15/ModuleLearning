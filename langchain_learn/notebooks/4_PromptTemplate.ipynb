{
 "cells": [
  {
   "cell_type": "code",
   "execution_count": 19,
   "id": "f2ec2b4c",
   "metadata": {},
   "outputs": [],
   "source": [
    "from langchain_openai import ChatOpenAI\n",
    "\n",
    "import os\n",
    "\n",
    "dmx_api_key = os.getenv(\"DMX_API_KEY\")\n",
    "dmx_base_url = os.getenv(\"DMX_BASE_URL\")"
   ]
  },
  {
   "cell_type": "code",
   "execution_count": 20,
   "id": "0e2c9c3c",
   "metadata": {},
   "outputs": [],
   "source": [
    "llm = ChatOpenAI(\n",
    "    model = \"glm-4.5\",\n",
    "    api_key = dmx_api_key,\n",
    "    base_url = dmx_base_url\n",
    ")"
   ]
  },
  {
   "cell_type": "code",
   "execution_count": 21,
   "id": "de80a8ac",
   "metadata": {},
   "outputs": [],
   "source": [
    "# 有两种方法创建PromptTemplate对象\n",
    "# 第一种\n",
    "from langchain_core.prompts import PromptTemplate\n",
    "\n",
    "prompt_1 = PromptTemplate.from_template(\"{capital}的占地面积。\")"
   ]
  },
  {
   "cell_type": "code",
   "execution_count": 22,
   "id": "a9b14f0b",
   "metadata": {},
   "outputs": [
    {
     "data": {
      "text/plain": [
       "'北京的占地面积。'"
      ]
     },
     "execution_count": 22,
     "metadata": {},
     "output_type": "execute_result"
    }
   ],
   "source": [
    "# 补全提示词\n",
    "prompt_1.format(capital = \"北京\")"
   ]
  },
  {
   "cell_type": "code",
   "execution_count": 23,
   "id": "23c1306d",
   "metadata": {},
   "outputs": [
    {
     "data": {
      "text/plain": [
       "'<think>\\n 嗯，用户问的是北京的占地面积。这个问题看起来简单直接，但实际需要区分清楚不同概念。用户可能只是想快速知道一个数字，但作为专业回答，得把不同统计口径都解释清楚，避免误导。\\n> \\n> 用户可能是学生做作业，或者外地人规划旅行，甚至可能是投资者考察城市规模。从简洁的提问方式看，ta可能只需要基础数据，但深层需求或许是理解北京的实际发展空间——比如为什么房价这么高，或者城市扩张潜力。\\n> \\n> 先确认核心数据：北京市行政区域总面积是16410.54平方公里，这个数字来自官方统计年鉴，最权威。但用户可能不知道这个面积包含大量山区，实际建成区才多大呢？得补充说明平原比例只有38%，否则容易误解北京全是城市。\\n> \\n> 想到容易混淆的点：有人会把“首都功能核心区”当成北京全部，其实东城西城加起来才92平方公里，连总面积的1%都不到。这个对比能直观展示北京的结构差异——就像一个西瓜，瓜皮（生态区）比瓜瓤（城区）厚得多。\\n> \\n> 要不要提建成区面积呢？虽然用户没问，但1418平方公里这个数据能反映真实城市化程度。不过得标注这是2020年数据，避免显得过时。另外补充天津对比，因为很多人以为北京比天津大，其实天津更广阔。\\n> \\n> 最后决定用分层结构回答：先给最权威的行政面积，再拆解功能区，最后补充建成区概念。这样既满足基础查询需求，又为想深入了解的用户留了延伸空间。结尾主动问是否需要其他数据，万一用户真有隐藏需求呢。</think>\\n\\n北京的占地面积通常指其**行政区域总面积**，根据官方数据，北京市的总面积为 **16,410.54 平方公里**（约合 1.64 万平方公里）。\\n\\n### 需要区分的几个概念：\\n1. **行政区域总面积（16,410.54 km²）**  \\n   - 这是北京市管辖的全部范围，包括：\\n     - **中心城区**（东城、西城、朝阳、海淀、丰台、石景山）\\n     - **郊区**（通州、顺义、大兴、昌平、房山）\\n     - **生态涵养区**（门头沟、平谷、怀柔、密云、延庆）\\n   - 其中约 **62% 为山区**（主要分布在西部和北部），平原仅占 **38%**（集中在东南部）。\\n\\n2. **首都功能核心区（92.5 km²）**  \\n   - 仅指 **东城区和西城区**，是北京的政治、文化核心区域，面积占全市不足 1%。\\n\\n3. **城市建成区面积（约 1,418 km²，2020年数据）**  \\n   - 指实际城市化开发区域（道路、建筑、基础设施等），约占全市总面积的 **8.6%**。随着城市扩张，这一数字持续增长。\\n\\n### 补充说明：\\n- **对比参考**：  \\n  - 上海总面积：6,340.5 km²  \\n  - 天津总面积：11,966.45 km²  \\n  - 重庆总面积：82,402 km²（含大量山区）  \\n  北京的面积约为上海的 2.6 倍、天津的 1.4 倍，但远小于重庆。\\n\\n- **地理特点**：  \\n  北京地势西北高、东南低，西部为太行山余脉（如西山），北部为燕山山脉（如军都山），东南部为华北平原延伸部分。这种地形限制了城市向西北方向的扩张。\\n\\n### 总结：\\n- **官方总面积：16,410.54 平方公里**（最常用数据）。  \\n- 实际城市化区域（建成区）仅占一小部分，大部分为山地、林地和农业用地。  \\n- 若需更详细的分区数据（如各区面积、生态保护区比例等），可进一步提供。\\n\\n希望以上信息清晰解答了您的疑问！如需其他相关数据（如人口密度、功能区划分等），欢迎随时提问。'"
      ]
     },
     "execution_count": 23,
     "metadata": {},
     "output_type": "execute_result"
    }
   ],
   "source": [
    "chain_1 = prompt_1 | llm\n",
    "\n",
    "chain_1.invoke({\"capital\" : \"北京\"}).content"
   ]
  },
  {
   "cell_type": "code",
   "execution_count": 24,
   "id": "6b461ea1",
   "metadata": {},
   "outputs": [
    {
     "data": {
      "text/plain": [
       "PromptTemplate(input_variables=['country'], input_types={}, partial_variables={}, template='{country}的首都是哪里？')"
      ]
     },
     "execution_count": 24,
     "metadata": {},
     "output_type": "execute_result"
    }
   ],
   "source": [
    "# 一次性创建PromptTemplate对象和提示词\n",
    "template_country = \"{country}的首都是哪里？\"\n",
    "\n",
    "prompt_2 = PromptTemplate(\n",
    "    template = template_country,\n",
    "    input_variables = [\"country\"]\n",
    ")\n",
    "\n",
    "prompt_2"
   ]
  },
  {
   "cell_type": "code",
   "execution_count": 25,
   "id": "bf062f88",
   "metadata": {},
   "outputs": [
    {
     "data": {
      "text/plain": [
       "'中国的首都是哪里？'"
      ]
     },
     "execution_count": 25,
     "metadata": {},
     "output_type": "execute_result"
    }
   ],
   "source": [
    "prompt_2.format(country = \"中国\")"
   ]
  },
  {
   "cell_type": "code",
   "execution_count": 26,
   "id": "fff25ae2",
   "metadata": {},
   "outputs": [
    {
     "data": {
      "text/plain": [
       "PromptTemplate(input_variables=['capital1'], input_types={}, partial_variables={'capital2': '石家庄'}, template='{capital1}和{capital2}的分别在哪里？')"
      ]
     },
     "execution_count": 26,
     "metadata": {},
     "output_type": "execute_result"
    }
   ],
   "source": [
    "template_capital = \"{capital1}和{capital2}的分别在哪里？\"\n",
    "\n",
    "prompt_3 = PromptTemplate(\n",
    "    template = template_capital,\n",
    "    input_variables = [\"capital1\"],\n",
    "    partial_variables = {\"capital2\" : \"石家庄\"}\n",
    ")\n",
    "\n",
    "prompt_3"
   ]
  },
  {
   "cell_type": "code",
   "execution_count": 27,
   "id": "2e3b3a7d",
   "metadata": {},
   "outputs": [
    {
     "data": {
      "text/plain": [
       "'北京和石家庄的分别在哪里？'"
      ]
     },
     "execution_count": 27,
     "metadata": {},
     "output_type": "execute_result"
    }
   ],
   "source": [
    "prompt_3.format(capital1 = \"北京\")"
   ]
  },
  {
   "cell_type": "code",
   "execution_count": 28,
   "id": "1a1c038d",
   "metadata": {},
   "outputs": [],
   "source": [
    "prompt_partial = prompt.partial(capital2 = \"保定\")"
   ]
  },
  {
   "cell_type": "code",
   "execution_count": 29,
   "id": "ede90b89",
   "metadata": {},
   "outputs": [
    {
     "data": {
      "text/plain": [
       "'曲阳和保定的分别在哪里？'"
      ]
     },
     "execution_count": 29,
     "metadata": {},
     "output_type": "execute_result"
    }
   ],
   "source": [
    "prompt_partial.format(capital1 = \"曲阳\")"
   ]
  },
  {
   "cell_type": "code",
   "execution_count": 30,
   "id": "0fefbc4f",
   "metadata": {},
   "outputs": [],
   "source": [
    "chain_2 = prompt_partial | llm"
   ]
  },
  {
   "cell_type": "code",
   "execution_count": 31,
   "id": "0e68b402",
   "metadata": {},
   "outputs": [
    {
     "data": {
      "text/plain": [
       "AIMessage(content='<think>\\n 嗯，用户问的是南东郭村和保定的分别在哪里。首先得确定这两个地方的具体位置关系。南东郭村听起来像是个村庄，而保定是地级市，所以应该先查清楚南东郭村属于哪个行政区划。\\n> \\n> 记得之前处理过类似的问题，比如某个村和城市的区别。南东郭村可能属于保定市下辖的某个县。需要确认它具体在哪个县。根据资料，南东郭村属于保定市清苑区，但清苑区现在是市辖区，以前是县，2015年撤县设区了。这点要注意，避免用户混淆旧称和现在的行政划分。\\n> \\n> 接下来是保定的位置。保定市位于河北省中部，是京津冀地区的重要城市。它的地理坐标大概在东经113°40′至116°20′，北纬38°10′至40°00′之间。而南东郭村在清苑区，清苑区位于保定市东部，距离市区中心大约10到15公里。需要强调两者的行政层级关系，南东郭村是保定市清苑区下辖的行政村，而保定市是地级市，管辖多个区县。\\n> \\n> 用户可能想知道两者之间的距离和交通方式。从保定市区到南东郭村，大概有10到15公里，开车或坐公交都很方便。比如可以走保衡线或者朝阳南大街，公交的话可能有631路之类的线路。这些信息对实际出行有帮助，应该补充进去。\\n> \\n> 另外，用户可能对行政区划不太清楚，需要解释清楚层级关系。保定市下辖5个区、15个县，还有4个县级市。清苑区是其中之一，南东郭村属于清苑区下的某个乡镇，比如石桥乡或者东闾乡？需要核实具体归属。资料显示南东郭村属于清苑区石桥乡，这点要准确。\\n> \\n> 还要注意避免混淆。比如清苑区以前叫清苑县，2015年才设区，有些资料可能还沿用旧称，但现在的正式名称是清苑区。同时，南东郭村在清苑区的位置，比如东部偏南，靠近保衡线，这些细节能帮助用户定位。\\n> \\n> 最后总结两者的区别：一个是村庄，一个是地级市；行政层级不同；地理位置上南东郭村在保定市区东部，距离不远。这样用户就能清楚它们的关系了。</think>\\n\\n南东郭村和保定的位置关系非常明确，但它们属于不同的行政层级：\\n\\n1.  **保定市：**\\n    *   **行政层级：** **地级市**。是河北省下辖的一个重要的地级市。\\n    *   **地理位置：** 位于河北省中部偏西，太行山东麓，冀中平原西部。地处北京、天津、石家庄三角地带的中心位置。\\n    *   **具体范围：** 保定市管辖着**5个市辖区**（竞秀区、莲池区、满城区、清苑区、徐水区）、**15个县**（易县、涞源县、顺平县、唐县、望都县、涞水县、阜平县、定兴县、高阳县、容城县、曲阳县、蠡县、博野县、雄县、安新县）、**4个县级市**（涿州市、定州市、安国市、高碑店市），并代管**白沟新城**。**清苑区就是保定市下辖的一个市辖区。**\\n    *   **核心区域：** 通常指保定市的中心城区，即竞秀区和莲池区。\\n\\n2.  **南东郭村：**\\n    *   **行政层级：** **行政村**。是中国最基层的行政单位。\\n    *   **地理位置：** 位于**河北省保定市清苑区**境内。具体来说，它属于**保定市清苑区石桥乡**管辖（有时资料也显示属于东闾乡，但最新行政区划通常指向石桥乡）。\\n    *   **具体位置：** 在保定中心城区的**东部方向**，距离保定市中心（如市政府、万博广场等核心区域）大约**10-15公里**左右。它位于清苑区的东部偏南区域，靠近保衡线（S231省道）。\\n    *   **与保定市的关系：** 南东郭村是**保定市清苑区石桥乡下辖的一个村庄**。也就是说，**保定市 > 清苑区 > 石桥乡 > 南东郭村**。\\n\\n**总结两者的“分别”在哪里：**\\n\\n1.  **行政层级不同：**\\n    *   **保定市**是**地级市**，是管辖范围很大的城市行政单位。\\n    *   **南东郭村**是**行政村**，是最基层的乡村行政单位。\\n\\n2.  **地理位置关系：**\\n    *   **南东郭村位于保定市行政管辖范围内。** 具体来说，它属于保定市下辖的**清苑区**。\\n    *   **从空间距离看：** 南东郭村位于保定中心城区（竞秀区、莲池区）的**东部**，距离市中心约**10-15公里**。它不是保定市中心城区的一部分，而是属于其近郊的清苑区的一个村庄。\\n\\n3.  **规模与功能不同：**\\n    *   **保定市**是一个拥有数百万人口的大型城市，是区域政治、经济、文化、交通中心，功能完备，基础设施齐全。\\n    *   **南东郭村**是一个典型的农村聚落，规模较小，以农业生产和乡村生活为主，基础设施和功能相对简单。\\n\\n**简单来说：**\\n\\n*   **保定市**是一个**大城市**。\\n*   **南东郭村**是**这个大城市（保定市）管辖下的一个村庄**，具体位置在保定市中心城区**东边大约十多公里**的地方，属于**清苑区**。\\n\\n**出行参考：**\\n*   从保定市中心（如火车站、客运中心）开车前往南东郭村，通常走**朝阳南大街**向南，然后转入**保衡线（S231）** 向东，或者走其他连接市区与清苑区的道路（如乐凯南大街延伸等），大约需要20-30分钟车程。\\n*   也有公交线路（如631路等）可以到达清苑区及附近乡镇，但可能需要转乘或步行一段距离才能到达南东郭村。\\n\\n所以，当你问“分别在哪里”时，最核心的区别就是：**保定市是包含南东郭村的上级行政单位，而南东郭村是位于保定市东部近郊清苑区的一个具体村庄。** 它们不是并列关系，而是包含与被包含的关系。', additional_kwargs={'refusal': None}, response_metadata={'token_usage': {'completion_tokens': 2297, 'prompt_tokens': 24, 'total_tokens': 2321, 'completion_tokens_details': {'accepted_prediction_tokens': None, 'audio_tokens': 0, 'reasoning_tokens': 0, 'rejected_prediction_tokens': None, 'text_tokens': 0}, 'prompt_tokens_details': {'audio_tokens': 0, 'cached_tokens': 0, 'text_tokens': 0, 'image_tokens': 0}, 'input_tokens': 0, 'output_tokens': 0, 'input_tokens_details': None}, 'model_name': 'glm-4.5', 'system_fingerprint': None, 'id': 'chatcmpl-8Tos2WZQfPdBaccpgMkasGxtQfJtq', 'service_tier': None, 'finish_reason': 'stop', 'logprobs': None}, id='run--db0b26c4-db03-40be-9adc-e6295532a3e4-0', usage_metadata={'input_tokens': 24, 'output_tokens': 2297, 'total_tokens': 2321, 'input_token_details': {'audio': 0, 'cache_read': 0}, 'output_token_details': {'audio': 0, 'reasoning': 0}})"
      ]
     },
     "execution_count": 31,
     "metadata": {},
     "output_type": "execute_result"
    }
   ],
   "source": [
    "chain_2.invoke(\"南东郭村\")"
   ]
  },
  {
   "cell_type": "code",
   "execution_count": 32,
   "id": "74129293",
   "metadata": {},
   "outputs": [],
   "source": [
    "# 通过 partial_variables ，你可以对函数进行部分应用。这在需要共享公共变量时特别有用。\n",
    "from datetime import datetime\n",
    "\n",
    "def get_today():\n",
    "    return datetime.now().strftime(\"%B %d\")"
   ]
  },
  {
   "cell_type": "code",
   "execution_count": 33,
   "id": "95fb1b31",
   "metadata": {},
   "outputs": [
    {
     "data": {
      "text/plain": [
       "'August 02'"
      ]
     },
     "execution_count": 33,
     "metadata": {},
     "output_type": "execute_result"
    }
   ],
   "source": [
    "get_today()"
   ]
  },
  {
   "cell_type": "code",
   "execution_count": 35,
   "id": "f9d97ad8",
   "metadata": {},
   "outputs": [
    {
     "data": {
      "text/plain": [
       "AIMessage(content='\\n詹姆斯·鲍德温（1924年8月2日-1987年12月1日）：美国著名作家、社会评论家，以探讨种族、性别和阶级问题著称。代表作有《向苍天呼吁》、《无人知晓我的名字》等，其作品深刻反映了20世纪中期美国社会的种族关系紧张状况，对民权运动产生重要影响。\\n\\n彼得·奥图尔（1932年8月2日-2013年12月14日）：英国著名演员，以在《阿拉伯的劳伦斯》中的经典表演闻名于世。曾八次获奥斯卡最佳男主角提名，并于2003年获奥斯卡终身成就奖，其舞台和银幕生涯跨越50余年，是20世纪最具影响力的演员之一。', additional_kwargs={'refusal': None}, response_metadata={'token_usage': {'completion_tokens': 855, 'prompt_tokens': 44, 'total_tokens': 899, 'completion_tokens_details': {'accepted_prediction_tokens': None, 'audio_tokens': None, 'reasoning_tokens': 565, 'rejected_prediction_tokens': None, 'content_tokens': 290}, 'prompt_tokens_details': {'audio_tokens': None, 'cached_tokens': None, 'text_tokens': 37}}, 'model_name': 'glm-4.5', 'system_fingerprint': None, 'id': 'chatcmpl-89DMO1OyyqO1TmbwXKSi0Ql6J8GeQ', 'service_tier': None, 'finish_reason': 'stop', 'logprobs': None}, id='run--76f2951c-5899-4972-8cd1-ea773b838389-0', usage_metadata={'input_tokens': 44, 'output_tokens': 855, 'total_tokens': 899, 'input_token_details': {}, 'output_token_details': {'reasoning': 565}})"
      ]
     },
     "execution_count": 35,
     "metadata": {},
     "output_type": "execute_result"
    }
   ],
   "source": [
    "prompt_today = PromptTemplate(\n",
    "    template = \"今天的日期是{today}，请你写出{n}个历史上在今天出生的历史人物，简要说明事迹。\",\n",
    "    partial_variables = {\n",
    "        \"today\" : get_today\n",
    "    }\n",
    ")\n",
    "\n",
    "chain_today = prompt_today | llm\n",
    "\n",
    "chain_today.invoke({\"n\":2})"
   ]
  },
  {
   "cell_type": "code",
   "execution_count": 37,
   "id": "61c0347d",
   "metadata": {},
   "outputs": [
    {
     "name": "stdout",
     "output_type": "stream",
     "text": [
      "<think>\n",
      " 嗯，用户让我查一下8月2日出生的历史人物，还要简要说明他们的事迹。首先得确认日期没错，是August 02。然后得想怎么找这些人物，可能需要回忆或者查资料，但既然是模拟思考，就假装自己知道。\n",
      "> \n",
      "> 首先想到的是亚历山大二世，俄罗斯沙皇，记得他推行了农奴制改革，废除农奴制，但后来被刺杀。这个应该算重要人物，事迹影响深远。然后是詹姆斯·鲍德温，美国作家，写种族问题的，比如《下一次将是烈火》，得确认他的生日是不是8月2日。接着是华伦·巴菲特，投资家，伯克希尔哈撒韦的CEO，这个很出名，应该没问题。再想想，还有没有其他的？对了，彼得·奥图尔，英国演员，《阿拉伯的劳伦斯》的主演，得过奥斯卡提名，但没获奖，这个可能用户也知道。最后需要一个女性人物，玛丽·雷诺特，写历史小说的，尤其是希腊题材，比如《国王必须死去》，可能用户不太熟悉，但也是重要作家。\n",
      "> \n",
      "> 然后得核对每个人的生卒年，确保正确。亚历山大二世是1818-1881，鲍德温1924-1987，巴菲特1930年出生，奥图尔1932-2013，雷诺特1905-1983。事迹部分要简洁，突出重点，比如亚历山大二世的关键改革，鲍德温的文学贡献，巴菲特的投资成就，奥图尔的代表作，雷诺特的小说题材。还要注意避免错误，比如巴菲特是否真的8月2日出生，确认没错。最后检查有没有重复或遗漏，确保五个人都是不同领域的，涵盖政治、文学、商业、艺术，这样用户会觉得全面。</think>\n",
      "月2日，以下是5位在历史上今天出生的著名人物及其简要事迹：\n",
      "\n",
      "1.  **亚历山大二世 (Alexander II of Russia)**\n",
      "    *   **生卒年：** 1818年 - 1881年\n",
      "    *   **身份：** 俄罗斯帝国皇帝 (1855-1881在位)\n",
      "    *   **简要事迹：** 他是俄罗斯历史上最重要的改革者之一，被称为“解放者沙皇”。他最著名的成就是**1861年签署法令废除了俄国的农奴制**，这是俄国走向现代化和工业化的关键一步。他还推动了司法、地方自治、军事和教育等一系列改革。然而，他的激进改革也激化了社会矛盾，最终在1881年遭民意党人刺杀身亡。\n",
      "\n",
      "2.  **詹姆斯·鲍德温 (James Baldwin)**\n",
      "    *   **生卒年：** 1924年 - 1987年\n",
      "    *   **身份：** 美国小说家、散文家、剧作家、诗人和社会活动家\n",
      "    *   **简要事迹：** 他是20世纪美国文学和民权运动的核心人物。鲍德温的作品以**深刻探讨美国的种族、阶级、性取向和身份认同问题**而闻名。代表作包括小说《向苍天呼吁》、《乔瓦尼的房间》，以及散文集《下一次将是烈火》、《没有人知道我的名字》等。他的文字充满激情、洞察力和道德力量，对后世的作家和思想家产生了深远影响。\n",
      "\n",
      "3.  **华伦·巴菲特 (Warren Buffett)**\n",
      "    *   **生卒年：** 1930年 - 至今\n",
      "    *   **身份：** 美国投资家、企业家、慈善家\n",
      "    *   **简要事迹：** 他被广泛认为是**全球最成功、最受尊敬的投资家之一**，被誉为“奥马哈先知”。巴菲特是伯克希尔·哈撒韦公司的董事长兼CEO，通过其独特的价值投资哲学和长期持有策略，将这家濒临破产的纺织厂发展成为庞大的企业集团。他是世界上最富有的人之一，同时也是一位慷慨的慈善家，承诺捐出绝大部分财富。他的投资智慧和商业理念影响了无数投资者。\n",
      "\n",
      "4.  **彼得·奥图尔 (Peter O'Toole)**\n",
      "    *   **生卒年：** 1932年 - 2013年\n",
      "    *   **身份：** 爱尔兰裔英国舞台及电影演员\n",
      "    *   **简要事迹：** 他是英国戏剧界和好莱坞的传奇巨星，以其**非凡的演技、独特的魅力和舞台般的存在感**著称。奥图尔最著名的角色是1962年史诗电影《阿拉伯的劳伦斯》中饰演的T.E.劳伦斯，这个角色为他赢得了首个奥斯卡最佳男主角提名（他一生共获得8次提名，但从未获奖，后获荣誉奥斯卡奖）。其他代表作包括《冬狮》、《雄狮》、《特里斯坦与伊索尔德》等。他的表演风格充满激情、优雅和一丝危险感。\n",
      "\n",
      "5.  **玛丽·雷诺特 (Mary Renault)**\n",
      "    *   **生卒年：** 1905年 - 1983年\n",
      "    *   **身份：** 英国小说家\n",
      "    *   **简要事迹：** 她是**以描写古希腊历史和神话而闻名于世的杰出历史小说家**。雷诺特的作品以其**严谨的历史考据、深刻的心理刻画和对古希腊精神世界的独特理解**而备受赞誉。她的代表作包括描写古希腊英雄忒修斯的《国王必须死去》和《海洋上的牛》，以及描绘亚历山大大帝生平的三部曲《天堂之火》、《波斯少年》和《葬礼竞技会》。她的小说让无数读者对古希腊文明产生了浓厚兴趣。\n",
      "\n",
      "这五位人物分别在政治改革、文学与社会批判、投资与商业、表演艺术以及历史小说创作等领域留下了不可磨灭的印记，他们的贡献至今仍在影响着世界。"
     ]
    }
   ],
   "source": [
    "from langchain_core.output_parsers import StrOutputParser\n",
    "\n",
    "\n",
    "parser = StrOutputParser()\n",
    "\n",
    "chain_today_stream = prompt_today | llm | parser\n",
    "\n",
    "for chunk in chain_today_stream.stream({\"n\" : 5}):\n",
    "    print(chunk,end = \"\",flush = True)"
   ]
  },
  {
   "cell_type": "code",
   "execution_count": null,
   "id": "86453151",
   "metadata": {},
   "outputs": [],
   "source": []
  }
 ],
 "metadata": {
  "kernelspec": {
   "display_name": ".venv",
   "language": "python",
   "name": "python3"
  },
  "language_info": {
   "codemirror_mode": {
    "name": "ipython",
    "version": 3
   },
   "file_extension": ".py",
   "mimetype": "text/x-python",
   "name": "python",
   "nbconvert_exporter": "python",
   "pygments_lexer": "ipython3",
   "version": "3.12.7"
  }
 },
 "nbformat": 4,
 "nbformat_minor": 5
}
