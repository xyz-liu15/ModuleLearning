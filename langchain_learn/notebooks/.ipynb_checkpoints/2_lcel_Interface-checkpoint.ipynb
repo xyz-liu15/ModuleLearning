{
 "cells": [
  {
   "cell_type": "markdown",
   "id": "99a342bc",
   "metadata": {},
   "source": [
    "# 使用LCEL语法构建一个简单链"
   ]
  },
  {
   "cell_type": "code",
   "execution_count": 1,
   "id": "21527a80",
   "metadata": {},
   "outputs": [],
   "source": [
    "from langchain_openai import ChatOpenAI\n",
    "from langchain_core.prompts import ChatPromptTemplate\n",
    "from langchain_core.output_parsers import StrOutputParser"
   ]
  },
  {
   "cell_type": "code",
   "execution_count": 2,
   "id": "5c18455a",
   "metadata": {},
   "outputs": [],
   "source": [
    "import os\n",
    "\n",
    "llm = ChatOpenAI(\n",
    "    model = \"DMXAPI-DeepSeek-V3-Fast\",\n",
    "    api_key = os.getenv(\"DMX_API_KEY\"),\n",
    "    base_url = os.getenv(\"DMX_BASE_URL\")\n",
    ")"
   ]
  },
  {
   "cell_type": "code",
   "execution_count": 3,
   "id": "685f61db",
   "metadata": {},
   "outputs": [],
   "source": [
    "prompt = ChatPromptTemplate.from_template(\"使用简短的句子总结{topic}\")"
   ]
  },
  {
   "cell_type": "code",
   "execution_count": 4,
   "id": "fa9c6481",
   "metadata": {},
   "outputs": [],
   "source": [
    "parser = StrOutputParser()"
   ]
  },
  {
   "cell_type": "code",
   "execution_count": 5,
   "id": "35972e0b",
   "metadata": {},
   "outputs": [],
   "source": [
    "chain = prompt | llm | parser"
   ]
  },
  {
   "cell_type": "markdown",
   "id": "9b03d088",
   "metadata": {},
   "source": [
    "# 实时流式输出\n",
    "\n",
    "这个函数通过 chain.stream 方法为指定主题生成数据流，并遍历这些数据，立即输出每条数据的 content 。使用 end=\"\" 参数可以禁止输出后添加换行符，而 flush=True 参数则会使输出缓冲区立即清空。"
   ]
  },
  {
   "cell_type": "code",
   "execution_count": 6,
   "id": "c20b065f",
   "metadata": {},
   "outputs": [
    {
     "name": "stdout",
     "output_type": "stream",
     "text": [
      "人生如畜，劳逸天定。  \n",
      "牛马苦耕方得食，  \n",
      "猫蝶闲游亦饱腹。  \n",
      "——命途殊异，同归尘土。  \n",
      "\n",
      "（注：采用对比式短句，凝练原文核心意象。\"牛马\"对\"猫蝶\"，\"苦耕\"对\"闲游\"，末句点破众生皆平等的荒诞感。保留口语化节奏，但通过押韵和意象并置提升文学性。）"
     ]
    }
   ],
   "source": [
    "for chunk in chain.stream({\"topic\" : \"人等于动物，有人做牛马，天天吃苦，否则吃不到饭。有人做猫做蝴蝶，一辈子好吃懒做，东张西望，照样享福。\"}):\n",
    "    print(chunk,end = \"\",flush = True)"
   ]
  },
  {
   "cell_type": "markdown",
   "id": "fbea2e2e",
   "metadata": {},
   "source": [
    "# 调用"
   ]
  },
  {
   "cell_type": "code",
   "execution_count": 7,
   "id": "2489a7c2",
   "metadata": {},
   "outputs": [
    {
     "data": {
      "text/plain": [
       "'这段文字以凝练的意象探讨生命轮回与永恒：  \\n\\n1. **衰老与新生**：拄拐杖的\"我\"下山，与山洼里奔跑的孩子形成对比，暗示生命更迭。  \\n2. **存在之问**：\"不是我\"与\"不是我吗\"的悖论，指向个体消亡与精神延续的辩证。  \\n3. **宇宙永恒**：欲望将瞬间欢愉炼为永恒，人间姓名微不足道，凸显自然法则的宏大。  \\n\\n核心：生命如循环的歌舞，个体湮灭而宇宙生生不息。'"
      ]
     },
     "execution_count": 7,
     "metadata": {},
     "output_type": "execute_result"
    }
   ],
   "source": [
    "chain.invoke({\"topic\" : \"那一天，我也将沉静着走下山去，扶着我的拐杖。有一天，在某一处山洼里，势必会跑上来一个欢蹦的孩子，抱着他的玩具。 当然，那不是我。 但是，那不是我吗？ 宇宙以其不息的欲望将一个歌舞炼为永恒。这欲望有怎样一个人间的姓名，大可忽略不计。\"})"
   ]
  },
  {
   "cell_type": "markdown",
   "id": "689e0563",
   "metadata": {},
   "source": [
    "# 批处理：单元执行\n",
    "\n",
    "函数 chain.batch 接受一个包含多个字典的列表作为参数，并利用每个字典中的 topic 键的值执行批量处理。"
   ]
  },
  {
   "cell_type": "code",
   "execution_count": 8,
   "id": "cb4e902f",
   "metadata": {},
   "outputs": [
    {
     "data": {
      "text/plain": [
       "['残疾之躯，静坐思悟。  \\n自然为师，生死皆途。  \\n死如节至，生当健行。  \\n恪守本真，顺命如流。',\n",
       " '园中独坐。  \\n园神低语：  \\n“这是你的罪孽，  \\n也是福祉。”']"
      ]
     },
     "execution_count": 8,
     "metadata": {},
     "output_type": "execute_result"
    }
   ],
   "source": [
    "chain.batch([{\"topic\" : \"不能承受生命之痛，残疾的躯体，在轮椅上思考，从大自然中得到启示，死是一个必然降临的节日，应该健康的活着，恪守并遵循生命的轨迹。\"},\n",
    "            {\"topic\" : \"我在这园子里坐着，园神成年累月地对我说：孩子，这不是别的，这是你的罪孽和福祉。\"}])"
   ]
  },
  {
   "cell_type": "markdown",
   "id": "03e8fa93",
   "metadata": {},
   "source": [
    "配置字典通过max_concurrency键来设置可并发处理的操作的最大数量"
   ]
  },
  {
   "cell_type": "code",
   "execution_count": 9,
   "id": "0f1d819b",
   "metadata": {},
   "outputs": [
    {
     "data": {
      "text/plain": [
       "['太阳沉落又升起，燃烧两面光。我拄杖下山，遇见山洼里抱玩具的孩童——那不再是我。宇宙以无名之欲，令歌舞不息。',\n",
       " '1. 出生即定局，无可争议。  \\n2. 上帝赐予生命，也确保结局。  \\n3. 无需追逐死亡，它自会降临。  \\n4. 死亡是终将到来的庆典。',\n",
       " '有些东西只能珍藏。无法言说，无法思考，却无法遗忘。它们是模糊的温暖与孤寂，是成熟的期盼与幻灭。它们只存在于两个地方：心底与死亡。']"
      ]
     },
     "execution_count": 9,
     "metadata": {},
     "output_type": "execute_result"
    }
   ],
   "source": [
    "chain.batch([\n",
    "    {\"topic\" : \"太阳，他是夕阳，太阳正在升起。当他走出下山收集这些荒凉的照片时，正是他燃烧另一面并爬上山顶布散和朝辉时。那一天，我要走下山，扶着我的拐杖。在某个地方山洼，会有一个快乐的孩子抱着他的玩具。当然，那不是我。那不是我？宇宙以其无尽的欲望，使一支歌舞永恒。这个愿望有什么名字？可以忽略不计。\"},\n",
    "    {\"topic\" : \"当一个人出生时，这不再是一个可以争论的问题，而是上帝赋予他的事实，当上帝给我们这个事实时，他已经保证了他的结果，因此死亡是一件不必急于成功的事，而死亡是一个必然会到来的节日。\"},\n",
    "    {\"topic\" : \"有些东西只适合收藏。我们不能说，我们不能想，但我们不能忘记……，他们是朦胧的温馨和孤独，他们是成熟的希望和绝望，他们只有两个领地：心灵和坟墓。\"}\n",
    "],\n",
    "config = {\"max_concurrency\" : 3})"
   ]
  },
  {
   "cell_type": "markdown",
   "id": "629a5fb7",
   "metadata": {},
   "source": [
    "# 异步数据流\n",
    "\n",
    "函数 chain.astream 会创建一个异步流，用于异步处理指定主题的消息。\n",
    "\n",
    "它通过异步循环（ async for ）依次从流中接收消息，并利用打印函数即时输出消息内容（ s.content ）。 end=\"\" 设置禁止打印后自动换行， flush=True 强制清空输出缓冲区，保证消息能立即显示。"
   ]
  },
  {
   "cell_type": "code",
   "execution_count": 10,
   "id": "99ddcc63",
   "metadata": {},
   "outputs": [
    {
     "name": "stdout",
     "output_type": "stream",
     "text": [
      "太阳沉落又新生，如轮回的舞者。他披着余晖下山，转身便点燃黎明。我拄杖独行，山影里撞见怀抱玩具的孩童——那是我又不是我。宇宙的歌声永不停歇，而所有姓名终将湮灭于光的洪流中。"
     ]
    }
   ],
   "source": [
    "async for chunk in chain.astream({\"topic\" : \"太阳，他是夕阳，太阳正在升起。当他走出下山收集这些荒凉的照片时，正是他燃烧另一面并爬上山顶布散和朝辉时。那一天，我要走下山，扶着我的拐杖。在某个地方山洼，会有一个快乐的孩子抱着他的玩具。当然，那不是我。那不是我？宇宙以其无尽的欲望，使一支歌舞永恒。这个愿望有什么名字？可以忽略不计。\"}):\n",
    "    print(chunk,end = \"\",flush = True)"
   ]
  },
  {
   "cell_type": "markdown",
   "id": "de57e2d3",
   "metadata": {},
   "source": [
    "# 异步执行\n",
    "\n",
    "第一个方法（对象）会使用给定的参数异步执行操作"
   ]
  },
  {
   "cell_type": "code",
   "execution_count": 11,
   "id": "8b28a3c4",
   "metadata": {},
   "outputs": [
    {
     "data": {
      "text/plain": [
       "'DeepSeek 是深度求索公司开发的 AI 助手，擅长文本处理、代码生成和知识问答，支持长文本理解（128K），免费且高效。'"
      ]
     },
     "execution_count": 11,
     "metadata": {},
     "output_type": "execute_result"
    }
   ],
   "source": [
    "process = chain.ainvoke({\"topic\" : \"DeepSeek\"})\n",
    "\n",
    "await process"
   ]
  },
  {
   "cell_type": "markdown",
   "id": "39a1811b",
   "metadata": {},
   "source": [
    "# 异步批处理\n",
    "\n",
    "该函数 abatch 异步批量处理一系列动作。\n",
    "\n",
    "在这个示例中，我们使用 abatch 对象的 chain 方法来异步处理 topic 上的动作。\n",
    "\n",
    "\" await 关键字用于等待所有异步任务完成。\""
   ]
  },
  {
   "cell_type": "code",
   "execution_count": 12,
   "id": "14a46185",
   "metadata": {},
   "outputs": [
    {
     "data": {
      "text/plain": [
       "['1. **神秘背面**：月球永远一面朝向地球，另一面长期未知。  \\n2. **首次揭露**：1959年苏联“月球3号”首次拍摄月背照片。  \\n3. **环境差异**：月背更多陨石坑，缺少“月海”（暗色平原）。  \\n4. **通信挑战**：地球信号无法直达，需中继卫星（如中国“鹊桥”）。  \\n5. **中国突破**：2019年“嫦娥四号”首登月背，开展探测。  \\n6. **科学价值**：屏蔽地球干扰，是天文观测的理想地点。  \\n\\n（注：月之暗面≠永久黑暗，仍有昼夜交替，但无法被地球直接观测。）',\n",
       " '通义千问是阿里云推出的AI大模型，支持多轮对话、多语言及多模态交互，具备代码生成、文本创作、逻辑推理等能力，适用于办公、学习、开发等场景。特点包括：云端服务、持续进化、开放API，强调安全与合规性。',\n",
       " '豆包是字节跳动推出的AI助手，功能类似ChatGPT，支持文本生成、问答、翻译等。特点：免费、中文优化、多端可用（App/网页）。']"
      ]
     },
     "execution_count": 12,
     "metadata": {},
     "output_type": "execute_result"
    }
   ],
   "source": [
    "process_batch = chain.abatch([\n",
    "    {\"topic\" : \"月之暗面\"},\n",
    "    {\"topic\" : \"通义千问\"},\n",
    "    {\"topic\" : \"豆包\"}\n",
    "])\n",
    "\n",
    "await process_batch"
   ]
  },
  {
   "cell_type": "markdown",
   "id": "07fc7992-a098-4ded-98f1-f3b2e46eecc4",
   "metadata": {},
   "source": [
    "# parallel\n",
    "\n",
    "使用 langchain_core.runnables 模块中的 RunnableParallel 类并行运行两个任务的示例。\n",
    "\n",
    "创建两个链 (chain1, chain2)，使用 ChatPromptTemplate.from_template 方法获取给定 country 的首都和面积。\n",
    "\n",
    "这些链通过 model 和管道(|)运算符分别连接。最后，我们使用 RunnableParallel 类，以 capital 和 area 为键组合这两个链，创建一个可并行运行的 combined 对象。"
   ]
  },
  {
   "cell_type": "code",
   "execution_count": 13,
   "id": "a5e6fda7",
   "metadata": {},
   "outputs": [],
   "source": [
    "from langchain_core.runnables import RunnableParallel\n",
    "\n",
    "\n",
    "chain_1 = ChatPromptTemplate.from_template(\"告诉我{country}首都是哪个？\") | llm | parser\n",
    "\n",
    "chain_2 = ChatPromptTemplate.from_template(\"告诉我{country}的国土面积。\") | llm | parser\n",
    "\n",
    "parallel = RunnableParallel(capital = chain_1,area = chain_2)"
   ]
  },
  {
   "cell_type": "code",
   "execution_count": 14,
   "id": "8be21804",
   "metadata": {},
   "outputs": [
    {
     "data": {
      "text/plain": [
       "{'capital': '中国的首都是**北京**。北京是中国的政治、文化、教育中心，也是国家中央政府所在地，拥有丰富的历史文化遗产和现代化城市风貌。',\n",
       " 'area': '中国的国土面积约为 **960万平方公里**，是世界第三大国家（仅次于俄罗斯和加拿大）。这一数据通常包括陆地面积和内陆水域，如湖泊、河流等。  \\n\\n此外，根据中国政府发布的信息，中国的领海面积约为 **473万平方公里**（包括渤海、黄海、东海、南海等海域）。因此，中国的 **总面积（陆地+领海）** 约为 **1433万平方公里**。  \\n\\n需要注意的是，不同统计口径（如是否包含争议地区、领海范围等）可能导致数据略有差异，但 **960万平方公里** 是官方广泛采用的陆地面积标准。'}"
      ]
     },
     "execution_count": 14,
     "metadata": {},
     "output_type": "execute_result"
    }
   ],
   "source": [
    "parallel.invoke({\"country\" : \"中国\"})"
   ]
  },
  {
   "cell_type": "code",
   "execution_count": 15,
   "id": "c4056d52",
   "metadata": {
    "scrolled": true
   },
   "outputs": [
    {
     "data": {
      "text/plain": [
       "[{'capital': '美国的首都是**华盛顿哥伦比亚特区**（Washington, D.C.），通常简称为**华盛顿**或**D.C.**。  \\n\\n需要注意的是，华盛顿州（Washington State）位于美国西海岸，与首都名称相同但地理位置不同，容易混淆。',\n",
       "  'area': '美国的国土面积根据不同的计算方式有所差异，以下是主要数据：\\n\\n1. **陆地面积**：约9,147,593平方公里（3,531,905平方英里）  \\n   - 这是不包括大型水域（如五大湖）的纯陆地面积。\\n\\n2. **总面积（含水域）**：约9,833,517平方公里（3,796,742平方英里）  \\n   - 包括领海、海岸水域、五大湖等内陆水域（约685,924平方公里）。\\n\\n3. **争议领土的特殊情况**：  \\n   - 若计入美国宣称的专属经济区（EEZ，海洋领土），总面积可能更大，但国际通常以陆地+内水为准。\\n\\n**关键区别**：  \\n- 中国官方资料（如外交部）常引用约937万平方公里的数据，可能包含部分争议领土或计算方式差异。  \\n- 美国中央情报局（CIA）《世界概况》采用9,833,517平方公里的标准。\\n\\n如需精确比较，建议明确是否包含水域或特定领土主张。'},\n",
       " {'capital': '德国的首都是**柏林**。  \\n\\n柏林不仅是德国最大的城市，也是其政治、文化和经济中心。自1990年德国统一后，柏林取代了之前的波恩（Bonn）成为首都。这里有著名的地标如勃兰登堡门、柏林墙遗址和国会大厦等。  \\n\\n如果有其他关于德国或柏林的问题，欢迎继续提问！ 😊',\n",
       "  'area': '德国的国土面积约为 **357,022 平方公里**（根据最新数据，包括内陆水域）。这一数字使其成为欧洲联盟内面积较大的国家之一，位居欧洲第7位（不包括俄罗斯的欧洲部分）。  \\n\\n### 补充说明：  \\n- **陆地面积**：约 348,672 平方公里  \\n- **水域面积**：约 8,350 平方公里（包括湖泊、河流等）  \\n\\n数据来源：德国联邦统计局（Destatis）及国际机构（如世界银行）。实际面积可能因测量方式（如海岸线计算）略有差异。  \\n\\n如果需要更详细的细分（如各州面积），可以进一步补充！'}]"
      ]
     },
     "execution_count": 15,
     "metadata": {},
     "output_type": "execute_result"
    }
   ],
   "source": [
    "parallel.batch([\n",
    "    {\"country\" : \"美国\"},{\"country\" : \"德国\"}\n",
    "])"
   ]
  },
  {
   "cell_type": "code",
   "execution_count": 19,
   "id": "6db68074-69bf-4672-be34-534f7db75f8a",
   "metadata": {},
   "outputs": [
    {
     "name": "stdout",
     "output_type": "stream",
     "text": [
      "{'capital': ''}{'capital': '中国的'}{'capital': '首都是**北京'}{'capital': '**。北京是'}{'capital': '中国的政治、'}{'capital': '文化、'}{'capital': '经济'}{'capital': '中心'}{'capital': '，拥有'}{'capital': '丰富的历史和'}{'capital': '现代发展'}{'capital': '成就，'}{'area': ''}{'area': '中国的'}{'area': '国土'}{'area': '面积约为 **'}{'area': '960万平方公里**'}{'area': '，是世界'}{'area': '第三'}{'area': '大国家'}{'area': '（'}{'area': '仅次于俄罗斯和'}{'area': '加拿大）。这一'}{'capital': '如'}{'capital': '故宫'}{'capital': '、天安门、'}{'capital': '长城等'}{'capital': '著名'}{'capital': '地标，'}{'capital': '同时也是'}{'capital': '国家政府'}{'capital': '机构和'}{'capital': '国际'}{'capital': '交往'}{'capital': '的重要枢纽'}{'capital': '。'}{'area': '数据包括陆地'}{'area': '面积和内陆'}{'area': '水域（'}{'area': '如湖泊、河流'}{'area': '等'}{'area': '）。'}{'area': '  \\n\\n此外，根据'}{'area': '中国政府'}{'area': '发布的'}{'area': '官方信息'}{'area': '，中国的'}{'area': '领海面积'}{'area': '约为 **470'}{'area': '万平方公里**（'}{'area': '包括渤海'}{'area': '、黄'}{'area': '海、东海、'}{'area': '南海等'}{'area': '海域）。'}{'area': '因此，中国的**'}{'area': '总面积（'}{'area': '陆地+'}{'area': '领海）'}{'area': '**约为 **143'}{'area': '0万平方公里**'}{'area': '。  \\n\\n需要注意的是'}{'area': '，不同'}{'area': '统计'}{'area': '方式'}{'area': '（'}{'area': '如是否'}{'area': '包含争议'}{'area': '领土'}{'area': '、'}{'area': '领海基线'}{'area': '划定'}{'area': '等）可能导致'}{'area': '数据略有差异，'}{'area': '但960'}{'area': '万平方公里是广泛'}{'area': '认可的'}{'area': '官方陆地'}{'area': '面积数据'}{'area': '。'}"
     ]
    }
   ],
   "source": [
    "for chunk in parallel.stream({\"country\" : \"中国\"}):\n",
    "    print(chunk,end = \"\",flush = True)"
   ]
  },
  {
   "cell_type": "code",
   "execution_count": null,
   "id": "f0c0e01c-0758-447e-9f33-32d85fc73b7a",
   "metadata": {},
   "outputs": [],
   "source": []
  }
 ],
 "metadata": {
  "kernelspec": {
   "display_name": "Python 3 (ipykernel)",
   "language": "python",
   "name": "python3"
  },
  "language_info": {
   "codemirror_mode": {
    "name": "ipython",
    "version": 3
   },
   "file_extension": ".py",
   "mimetype": "text/x-python",
   "name": "python",
   "nbconvert_exporter": "python",
   "pygments_lexer": "ipython3",
   "version": "3.12.7"
  }
 },
 "nbformat": 4,
 "nbformat_minor": 5
}
