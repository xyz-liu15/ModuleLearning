{
 "cells": [
  {
   "cell_type": "markdown",
   "id": "505efdf7",
   "metadata": {},
   "source": [
    "### 使用提示词模板"
   ]
  },
  {
   "cell_type": "markdown",
   "id": "f5c419de",
   "metadata": {},
   "source": [
    "PromptTemplate\n",
    "\n",
    "提示模板用于结合用户的输入变量，从而生成完整的提示字符串。\n",
    "使用情况\n",
    "模板字符串是一种预定义的格式，用大括号 '{}' 来代表变量。\n",
    "\n",
    "在大括号中要插入的变量名称被定义为列表形式。\n",
    "\n",
    "input_variables\n",
    "\n",
    "\" input_variables 是一个列表，用于定义 PromptTemplate 中所使用的变量名称。\""
   ]
  },
  {
   "cell_type": "code",
   "execution_count": 1,
   "id": "3c184980",
   "metadata": {},
   "outputs": [],
   "source": [
    "from langchain_openai import ChatOpenAI\n",
    "from langchain_core.prompts import PromptTemplate\n",
    "from langchain_core.output_parsers import StrOutputParser"
   ]
  },
  {
   "cell_type": "code",
   "execution_count": 2,
   "id": "85bbde2a",
   "metadata": {},
   "outputs": [],
   "source": [
    "import os\n",
    "\n",
    "llm = ChatOpenAI(\n",
    "    model = \"glm-4.5-flash\",\n",
    "    api_key = os.getenv(\"OPENAI_API_KEY\"),\n",
    "    base_url = os.getenv(\"BASE_URL\")\n",
    ")"
   ]
  },
  {
   "cell_type": "code",
   "execution_count": 3,
   "id": "9491d866",
   "metadata": {},
   "outputs": [],
   "source": [
    "sys_prompt = \"\"\"\n",
    "你是一个宣传标语专家，请根据用户需求设计一个独具创意且引人注目的宣传标语，需结合该产品/活动的核心价值和特点，同时融入新颖的表达方式或视角。\n",
    "请确保标语能够激发潜在客户的兴趣，并能留下深刻印象，可以考虑采用比喻、双关或其他修辞手法来增强语言的表现力。\n",
    "标语应简洁明了，需要朗朗上口，易于理解和记忆，一定要押韵，不要太过书面化。只输出宣传标语，不用解释。\n",
    "请你根据{topic}进行创作。\n",
    "\"\"\"\n",
    "\n",
    "prompt = PromptTemplate.from_template(sys_prompt)"
   ]
  },
  {
   "cell_type": "code",
   "execution_count": 4,
   "id": "6319e1e8",
   "metadata": {},
   "outputs": [],
   "source": [
    "parser = StrOutputParser()"
   ]
  },
  {
   "cell_type": "code",
   "execution_count": 5,
   "id": "3c8ad708",
   "metadata": {},
   "outputs": [],
   "source": [
    "chain = prompt | llm | parser"
   ]
  },
  {
   "cell_type": "code",
   "execution_count": 6,
   "id": "5e71ff68",
   "metadata": {},
   "outputs": [
    {
     "name": "stdout",
     "output_type": "stream",
     "text": [
      "弯弯香蕉笑，甜到心里跳"
     ]
    }
   ],
   "source": [
    "for chunk in chain.stream({\"topic\" : \"香蕉\"}):\n",
    "    print(chunk ,end = \"\",flush = True)"
   ]
  },
  {
   "cell_type": "code",
   "execution_count": null,
   "id": "4086c7c5",
   "metadata": {},
   "outputs": [],
   "source": []
  }
 ],
 "metadata": {
  "kernelspec": {
   "display_name": ".venv",
   "language": "python",
   "name": "python3"
  },
  "language_info": {
   "codemirror_mode": {
    "name": "ipython",
    "version": 3
   },
   "file_extension": ".py",
   "mimetype": "text/x-python",
   "name": "python",
   "nbconvert_exporter": "python",
   "pygments_lexer": "ipython3",
   "version": "3.12.7"
  }
 },
 "nbformat": 4,
 "nbformat_minor": 5
}
