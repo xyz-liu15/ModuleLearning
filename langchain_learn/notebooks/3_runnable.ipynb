{
 "cells": [
  {
   "cell_type": "code",
   "execution_count": 37,
   "id": "155dd357",
   "metadata": {},
   "outputs": [],
   "source": [
    "from langchain_openai import ChatOpenAI\n",
    "from langchain_core.prompts import PromptTemplate\n",
    "from langchain_core.output_parsers import StrOutputParser"
   ]
  },
  {
   "cell_type": "code",
   "execution_count": 38,
   "id": "46ea9821",
   "metadata": {},
   "outputs": [],
   "source": [
    "import os\n",
    "\n",
    "llm = ChatOpenAI(\n",
    "    model = \"DMXAPI-DeepSeek-V3-Fast\",\n",
    "    api_key = os.getenv(\"DMX_API_KEY\"),\n",
    "    base_url = os.getenv(\"DMX_BASE_URL\")\n",
    ")"
   ]
  },
  {
   "cell_type": "code",
   "execution_count": 39,
   "id": "070b93f1",
   "metadata": {},
   "outputs": [],
   "source": [
    "prompt = PromptTemplate.from_template(\"10乘以{num}等于多少？\")"
   ]
  },
  {
   "cell_type": "code",
   "execution_count": 40,
   "id": "e87b260f",
   "metadata": {},
   "outputs": [],
   "source": [
    "chain = prompt | llm"
   ]
  },
  {
   "cell_type": "code",
   "execution_count": 41,
   "id": "fc04e02c",
   "metadata": {},
   "outputs": [
    {
     "data": {
      "text/plain": [
       "AIMessage(content='10乘以10等于100。  \\n\\n计算过程如下：  \\n\\\\[ 10 \\\\times 10 = 100 \\\\]  \\n\\n如果有其他问题，欢迎继续提问！ 😊', additional_kwargs={'refusal': None}, response_metadata={'token_usage': {'completion_tokens': 36, 'prompt_tokens': 9, 'total_tokens': 45, 'completion_tokens_details': None, 'prompt_tokens_details': None}, 'model_name': 'DeepSeek-V3-Fast', 'system_fingerprint': None, 'id': 'chatcmpl-7b270fe93a8a44449747a5cf1656ea90', 'service_tier': None, 'finish_reason': 'stop', 'logprobs': None}, id='run--a870f86c-5eeb-4382-bfd9-5331a72e8918-0', usage_metadata={'input_tokens': 9, 'output_tokens': 36, 'total_tokens': 45, 'input_token_details': {}, 'output_token_details': {}})"
      ]
     },
     "execution_count": 41,
     "metadata": {},
     "output_type": "execute_result"
    }
   ],
   "source": [
    "chain.invoke({\"num\" : 10})\n"
   ]
  },
  {
   "cell_type": "code",
   "execution_count": 42,
   "id": "9258da99",
   "metadata": {},
   "outputs": [
    {
     "data": {
      "text/plain": [
       "AIMessage(content='要计算 \\\\( 10 \\\\times 8 \\\\)，可以按照以下步骤进行：\\n\\n1. **理解乘法**：乘法是重复加法的简便方法。\\\\( 10 \\\\times 8 \\\\) 表示将 10 加 8 次，或者将 8 加 10 次。\\n\\n2. **计算**：\\n   \\\\[\\n   10 \\\\times 8 = 80\\n   \\\\]\\n\\n3. **验证**：\\n   - 将 10 加 8 次：\\\\( 10 + 10 + 10 + 10 + 10 + 10 + 10 + 10 = 80 \\\\)\\n   - 将 8 加 10 次：\\\\( 8 + 8 + 8 + 8 + 8 + 8 + 8 + 8 + 8 + 8 = 80 \\\\)\\n\\n因此，最终答案为：\\n\\n\\\\[\\n\\\\boxed{80}\\n\\\\]', additional_kwargs={'refusal': None}, response_metadata={'token_usage': {'completion_tokens': 197, 'prompt_tokens': 9, 'total_tokens': 206, 'completion_tokens_details': None, 'prompt_tokens_details': None}, 'model_name': 'DeepSeek-V3-Fast', 'system_fingerprint': None, 'id': 'chatcmpl-e1fa0ce6152944519d1ee97a1a820a68', 'service_tier': None, 'finish_reason': 'stop', 'logprobs': None}, id='run--9cf117bb-5eed-49ef-956d-be292de09763-0', usage_metadata={'input_tokens': 9, 'output_tokens': 197, 'total_tokens': 206, 'input_token_details': {}, 'output_token_details': {}})"
      ]
     },
     "execution_count": 42,
     "metadata": {},
     "output_type": "execute_result"
    }
   ],
   "source": [
    "chain.invoke(8) # 如果模板中只有一个变量，也可以直接传递该变量的值"
   ]
  },
  {
   "cell_type": "markdown",
   "id": "7505d1d2",
   "metadata": {},
   "source": [
    "RunnablePassthrough 是一个 runnable 类型的对象，具有以下特征：\n",
    "\n",
    "1. 基本操作\n",
    "\n",
    "- 执行一个简单的传递函数，将输入值直接传递给输出\n",
    "\n",
    "- 可以独立使用 invoke() 方法执行\n",
    "\n",
    "2. 用例\n",
    "\n",
    "- \"在需要通过链式步骤传递数据且无需修改时非常方便\"\n",
    "\n",
    "- 可与其他组件结合，构建复杂的数据管道\n",
    "\n",
    "- 特别有助于在添加新字段时保持原始输入的完整性\n",
    "\n",
    "3. 输入管理\n",
    "\n",
    "- 接受字典类型输入\n",
    "\n",
    "- 也可以处理单个值\n",
    " \n",
    "- 在整个链条中保持数据结构的完整性"
   ]
  },
  {
   "cell_type": "code",
   "execution_count": 43,
   "id": "ee3bbce3",
   "metadata": {},
   "outputs": [
    {
     "data": {
      "text/plain": [
       "{'num': 100}"
      ]
     },
     "execution_count": 43,
     "metadata": {},
     "output_type": "execute_result"
    }
   ],
   "source": [
    "from langchain_core.runnables import RunnablePassthrough\n",
    "\n",
    "RunnablePassthrough().invoke({\"num\" : 100})"
   ]
  },
  {
   "cell_type": "code",
   "execution_count": 44,
   "id": "4df35aa8",
   "metadata": {},
   "outputs": [],
   "source": [
    "# 使用 RunnablePassthrough 创建链\n",
    "runnable_chain = {\"num\" :RunnablePassthrough()} | prompt | llm"
   ]
  },
  {
   "cell_type": "code",
   "execution_count": 45,
   "id": "9841de77",
   "metadata": {},
   "outputs": [
    {
     "data": {
      "text/plain": [
       "AIMessage(content='10乘以5等于50。  \\n\\n计算过程：  \\n10 × 5 = 50', additional_kwargs={'refusal': None}, response_metadata={'token_usage': {'completion_tokens': 19, 'prompt_tokens': 9, 'total_tokens': 28, 'completion_tokens_details': None, 'prompt_tokens_details': None}, 'model_name': 'DeepSeek-V3-Fast', 'system_fingerprint': None, 'id': 'chatcmpl-d1e396c958824a1c9f011404cf530112', 'service_tier': None, 'finish_reason': 'stop', 'logprobs': None}, id='run--81ea3748-9c5e-4b4a-8cee-e1198c38bf4e-0', usage_metadata={'input_tokens': 9, 'output_tokens': 19, 'total_tokens': 28, 'input_token_details': {}, 'output_token_details': {}})"
      ]
     },
     "execution_count": 45,
     "metadata": {},
     "output_type": "execute_result"
    }
   ],
   "source": [
    "runnable_chain.invoke(5)"
   ]
  },
  {
   "cell_type": "markdown",
   "id": "2efd2acb",
   "metadata": {},
   "source": [
    "RunnablePassthrough.assign()\n",
    "\n",
    "将输入中的键/值对与分配的新键/值对进行合并。\n",
    "\n",
    "1. 输入数据: {\"num\": 1}\n",
    "\n",
    "2. lambda函数处理:\n",
    "\n",
    "函数接收字典 x = {\"num\": 1}\n",
    "\n",
    "计算 x[\"num\"] * 3 = 1 * 3 = 3\n",
    "\n",
    "3. 字段添加:\n",
    "\n",
    "使用 assign() 方法将新字段 \"new_num\": 3 添加到原始数据中\n",
    "\n",
    "4. 最终结果:\n",
    "\n",
    "{'num': 1, 'new_num': 3}"
   ]
  },
  {
   "cell_type": "code",
   "execution_count": 46,
   "id": "15441d51",
   "metadata": {},
   "outputs": [
    {
     "data": {
      "text/plain": [
       "{'num': 1, 'new_num': 3}"
      ]
     },
     "execution_count": 46,
     "metadata": {},
     "output_type": "execute_result"
    }
   ],
   "source": [
    "RunnablePassthrough.assign(new_num = lambda x : x[\"num\"] * 3).invoke({\"num\" : 1})"
   ]
  },
  {
   "cell_type": "markdown",
   "id": "a8cd0aee",
   "metadata": {},
   "source": [
    "\n",
    "使用RunnableParallel高效并行执行\n",
    "\n",
    "\" RunnableParallel 是一个用于同时执行多个 Runnable 对象的工具，旨在简化需要并行处理的流程。它将输入数据分配到不同组件中，收集各组件的结果，并将这些结果整合为统一输出。这一功能使其成为优化那些任务可独立且并行执行的工作流程的强大工具。\"\n",
    "\n",
    "1. 并行处理\n",
    "\n",
    "同时执行多个 Runnable 对象，减少并行化任务所需的时间。\n",
    "\n",
    "2. 统一输出管理系统\n",
    "\n",
    "将所有并行执行的结果整合成一个统一的输出，从而简化后续处理流程。\n",
    "\n",
    "3. 灵活\n",
    "\n",
    "可处理多种输入类型，高效分配工作负载，从而支持复杂工作流程。"
   ]
  },
  {
   "cell_type": "code",
   "execution_count": 47,
   "id": "9fcc487b",
   "metadata": {},
   "outputs": [
    {
     "data": {
      "text/plain": [
       "{'default': {'num': 1}, 'extend': {'num': 1, 'mult': 3}, 'modified': 2}"
      ]
     },
     "execution_count": 47,
     "metadata": {},
     "output_type": "execute_result"
    }
   ],
   "source": [
    "from langchain_core.runnables import RunnableParallel\n",
    "\n",
    "runnableparallel = RunnableParallel(\n",
    "    default = RunnablePassthrough(),\n",
    "    extend = RunnablePassthrough().assign(mult = lambda x : x[\"num\"] * 3),\n",
    "    modified = lambda x : x[\"num\"] + 1\n",
    ")\n",
    "\n",
    "runnableparallel.invoke({\"num\" : 1})"
   ]
  },
  {
   "cell_type": "markdown",
   "id": "5acc7912",
   "metadata": {},
   "source": [
    "链条同样适用于RunnableParallel"
   ]
  },
  {
   "cell_type": "code",
   "execution_count": 48,
   "id": "fc0984b9",
   "metadata": {},
   "outputs": [
    {
     "data": {
      "text/plain": [
       "{'capital': AIMessage(content='中国的首都是**北京**。', additional_kwargs={'refusal': None}, response_metadata={'token_usage': {'completion_tokens': 8, 'prompt_tokens': 13, 'total_tokens': 21, 'completion_tokens_details': None, 'prompt_tokens_details': None}, 'model_name': 'DeepSeek-V3-Fast', 'system_fingerprint': None, 'id': 'chatcmpl-23a3daa61c924c64a3074b91cb7d1e14', 'service_tier': None, 'finish_reason': 'stop', 'logprobs': None}, id='run--251840c9-d889-44c7-83b2-ee7bba479dba-0', usage_metadata={'input_tokens': 13, 'output_tokens': 8, 'total_tokens': 21, 'input_token_details': {}, 'output_token_details': {}}),\n",
       " 'area': AIMessage(content='中国的国土面积约为 **960万平方公里**，是世界第三大国家（仅次于俄罗斯和加拿大）。这一数据包括陆地面积和内陆水域（如湖泊、河流），但不包括领海和专属经济区。  \\n\\n若包含领海和争议区域（如台湾地区、南海诸岛等），中国的总面积可达到约 **1,040万平方公里**（不同统计口径可能略有差异）。  \\n\\n需要说明的是，台湾地区是中国领土不可分割的一部分，中国政府对其拥有主权。', additional_kwargs={'refusal': None}, response_metadata={'token_usage': {'completion_tokens': 100, 'prompt_tokens': 12, 'total_tokens': 112, 'completion_tokens_details': None, 'prompt_tokens_details': None}, 'model_name': 'DeepSeek-V3-Fast', 'system_fingerprint': None, 'id': 'chatcmpl-cc7bc66936304ab5bcca67778323fe36', 'service_tier': None, 'finish_reason': 'stop', 'logprobs': None}, id='run--30467601-7ef8-4f72-a6c5-5ca1ad121618-0', usage_metadata={'input_tokens': 12, 'output_tokens': 100, 'total_tokens': 112, 'input_token_details': {}, 'output_token_details': {}})}"
      ]
     },
     "execution_count": 48,
     "metadata": {},
     "output_type": "execute_result"
    }
   ],
   "source": [
    "chain_1 = {\"country\" : RunnablePassthrough()} | PromptTemplate.from_template(\"{country}首都是哪里？\") | llm\n",
    "\n",
    "chain_2 = {\"country\" : RunnablePassthrough()} | PromptTemplate.from_template(\"{country}面积多大？\") | llm\n",
    "\n",
    "parallel_combined = RunnableParallel(capital = chain_1,area = chain_2)\n",
    "\n",
    "parallel_combined.invoke({\"country\" : \"中国\"})"
   ]
  },
  {
   "cell_type": "markdown",
   "id": "8371b4f6",
   "metadata": {},
   "source": [
    "动态处理 RunnableLambda 函数\n",
    "\n",
    "\" RunnableLambda 是一个灵活的工具，能让开发人员利用 lambda 函数定义自定义数据转换逻辑。它通过实现快速简便的自定义处理工作流程，简化了定制数据管道的创建，同时确保了最小的设置开销。\"\n",
    "\n",
    "1. 可定制数据转换功能\n",
    "\n",
    "允许用户通过 lambda 函数自定义转换输入数据的逻辑，具有极高的灵活性。\n",
    "\n",
    "2. 轻巧且简便\n",
    "\n",
    "提供了一种简便的方法来实现临时处理，无需定义大量的类或函数。"
   ]
  },
  {
   "cell_type": "code",
   "execution_count": 49,
   "id": "f09612a6",
   "metadata": {},
   "outputs": [],
   "source": [
    "from datetime import datetime\n",
    "# 必须定义一个参数，即使这个参数用不到，这是langchain框架的要求\n",
    "def get_today(a):\n",
    "    return datetime.today().strftime(\"%b-%d\")\n",
    "\n"
   ]
  },
  {
   "cell_type": "code",
   "execution_count": 50,
   "id": "e1a0974b",
   "metadata": {},
   "outputs": [
    {
     "data": {
      "text/plain": [
       "\"以下是3位于8月2日出生的历史名人及其出生日期：  \\n\\n1. **皮埃尔·德·顾拜旦（Pierre de Coubertin）**  \\n   - 出生日期：1863年8月2日  \\n   - 现代奥林匹克运动会创始人，被誉为“奥林匹克之父”。  \\n\\n2. **詹姆斯·鲍德温（James Baldwin）**  \\n   - 出生日期：1924年8月2日  \\n   - 美国著名作家、社会活动家，代表作《向苍天呼吁》。  \\n\\n3. **彼得·奥图尔（Peter O'Toole）**  \\n   - 出生日期：1932年8月2日  \\n   - 爱尔兰裔英国演员，因主演《阿拉伯的劳伦斯》闻名。  \\n\\n如果需要更多信息，请告诉我！\""
      ]
     },
     "execution_count": 50,
     "metadata": {},
     "output_type": "execute_result"
    }
   ],
   "source": [
    "from langchain_core.runnables import RunnableLambda\n",
    "from langchain_core.output_parsers import StrOutputParser\n",
    "\n",
    "prompt_lambda = PromptTemplate.from_template(\"给我{n}个在{today}出生的历史名人，要写出出生日期。\")\n",
    "\n",
    "chain_lambda = ({\"today\" : RunnableLambda(get_today),\"n\" : RunnablePassthrough()}) | prompt_lambda | llm | StrOutputParser()\n",
    "\n",
    "chain_lambda.invoke({\"n\" : 3})"
   ]
  },
  {
   "cell_type": "markdown",
   "id": "710e5d42",
   "metadata": {},
   "source": [
    "通过 itemgetter 提取特定键\n",
    "\n",
    "\" itemgetter 是 Python 的 operator 模块提供的实用函数，具有以下特点和优势：\"\n",
    "\n",
    "1. 核心功能\n",
    "\n",
    "- 能高效地从字典、元组和列表中提取特定键或索引的值\n",
    "\n",
    "- 可以同时提取多个键或索引\n",
    "\n",
    "- 支持函数式编程风格\n",
    "\n",
    "2. 性能优化\n",
    "\n",
    "- 对于重复的键访问操作，这种索引方式比常规索引更高效\n",
    "\n",
    "- 优化内存使用\n",
    "\n",
    "- 处理大型数据集所带来的性能优势\n",
    "\n",
    "3. 在 LangChain 里的应用\n",
    "\n",
    "- 链式组合中的数据筛选\n",
    "- 从复杂输入结构中进行选择性提取\n",
    "- 与其他可运行对象结合进行数据预处理"
   ]
  },
  {
   "cell_type": "code",
   "execution_count": 51,
   "id": "45efb97f",
   "metadata": {},
   "outputs": [],
   "source": [
    "from operator import itemgetter\n",
    "\n",
    "from langchain_core.prompts import ChatPromptTemplate\n",
    "from langchain_core.runnables import RunnableLambda\n",
    "from langchain_openai import ChatOpenAI\n",
    "\n",
    "def length_function(text):\n",
    "    return len(text)\n",
    "\n",
    "\n",
    "def _multiple_length_function(text1,text2):\n",
    "    return len(text1) * len(text2)\n",
    "\n",
    "\n",
    "def multiple_length_function(_dict):\n",
    "    return _multiple_length_function(_dict[\"text1\"],_dict[\"text2\"])\n",
    "\n",
    "\n",
    "prompt = ChatPromptTemplate.from_template(\"{a}+{b}是多少？\")\n",
    "\n",
    "model = ChatOpenAI(model = \"glm-4.5\",base_url = os.getenv(\"DMX_BASE_URL\"),api_key = os.getenv(\"DMX_API_KEY\"))\n",
    "\n",
    "chain = ({\n",
    "    \"a\" : itemgetter(\"world1\") | RunnableLambda(length_function),\n",
    "    \"b\" : {\"text1\" : itemgetter(\"world1\"),\"text2\" : itemgetter(\"world2\")}\n",
    "    |\n",
    "    RunnableLambda(multiple_length_function),\n",
    "}\n",
    "| prompt | model)"
   ]
  },
  {
   "cell_type": "code",
   "execution_count": 52,
   "id": "f8ac70b4",
   "metadata": {},
   "outputs": [
    {
     "data": {
      "text/plain": [
       "AIMessage(content='<think>\\n 首先，用户的问题是“5+25是多少？”这是一个简单的加法问题。我需要计算5加25的结果。\\n> \\n> 回想一下基本的加法运算：5加25等于30。因为5 + 25 = 30。\\n> \\n> 为了确保准确性，我可以分解计算：25加5。25加5是30，因为25的个位数是5，加上5后变成10，所以进位1，十位数的2加1是3，因此是30。\\n> \\n> 或者，更简单地说，5 + 25 = 30。这是一个基础数学问题，不需要复杂计算。\\n> \\n> 现在，考虑用户的意图。用户可能是在测试我的基本数学能力，或者是一个孩子在练习加法。无论哪种情况，我应该给出直接、准确的答案。\\n> \\n> 我的回应应该清晰、简洁。既然问题很简单，我可以直接回答“5+25等于30。”\\n> \\n> 为了更友好，我可以添加一些鼓励性的语言，比如“很简单，5加25等于30。”但不要过度复杂化。\\n> \\n> 最后，确认没有误解：问题是用中文写的，“5+25是多少？”意思是“5+25是多少？”所以我应该用中文回应以保持一致。\\n> \\n> 因此，我的回应是：“5+25等于30。”</think>\\n\\n5+25等于30。这是一个简单的加法运算，5加25的结果是30。如果您有其他数学问题，欢迎随时问！ 😊', additional_kwargs={'refusal': None}, response_metadata={'token_usage': {'completion_tokens': 464, 'prompt_tokens': 14, 'total_tokens': 478, 'completion_tokens_details': {'accepted_prediction_tokens': None, 'audio_tokens': 0, 'reasoning_tokens': 0, 'rejected_prediction_tokens': None, 'text_tokens': 0}, 'prompt_tokens_details': {'audio_tokens': 0, 'cached_tokens': 0, 'text_tokens': 0, 'image_tokens': 0}, 'input_tokens': 0, 'output_tokens': 0, 'input_tokens_details': None}, 'model_name': 'glm-4.5', 'system_fingerprint': None, 'id': 'chatcmpl-8Tos2WZQfPdBaccpgMkasGxtQfJtq', 'service_tier': None, 'finish_reason': 'stop', 'logprobs': None}, id='run--5fa06678-9bed-4e70-afab-d94c61af63ef-0', usage_metadata={'input_tokens': 14, 'output_tokens': 464, 'total_tokens': 478, 'input_token_details': {'audio': 0, 'cache_read': 0}, 'output_token_details': {'audio': 0, 'reasoning': 0}})"
      ]
     },
     "execution_count": 52,
     "metadata": {},
     "output_type": "execute_result"
    }
   ],
   "source": [
    "chain.invoke({\"world1\" : \"hello\",\"world2\" : \"world\"})"
   ]
  },
  {
   "cell_type": "code",
   "execution_count": null,
   "id": "4781bfcb",
   "metadata": {},
   "outputs": [],
   "source": []
  }
 ],
 "metadata": {
  "kernelspec": {
   "display_name": ".venv",
   "language": "python",
   "name": "python3"
  },
  "language_info": {
   "codemirror_mode": {
    "name": "ipython",
    "version": 3
   },
   "file_extension": ".py",
   "mimetype": "text/x-python",
   "name": "python",
   "nbconvert_exporter": "python",
   "pygments_lexer": "ipython3",
   "version": "3.12.7"
  }
 },
 "nbformat": 4,
 "nbformat_minor": 5
}
